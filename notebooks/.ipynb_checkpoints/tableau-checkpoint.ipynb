{
 "cells": [
  {
   "cell_type": "code",
   "execution_count": null,
   "id": "e2614020-df49-4fd9-a170-1e14e2adc6d3",
   "metadata": {},
   "outputs": [],
   "source": [
    "# import libraries\n",
    "import pandas as pd\n",
    "import numpy as np\n",
    "import scipy.stats as stats\n",
    "import matplotlib.pyplot as plt\n",
    "import seaborn as sns"
   ]
  },
  {
   "cell_type": "code",
   "execution_count": null,
   "id": "c6d8011f-89dc-4f17-8830-30bd859a9fd0",
   "metadata": {},
   "outputs": [],
   "source": [
    "# load WHO TB Burden - incidence number 2023 + severity level, enriched with external data + corrections done in EDA\n",
    "TB_burden_enriched = \"df_TB_burden_enriched_new.csv\"\n",
    "df_TB_burden_enriched = pd.read_csv(TB_burden_enriched)\n",
    "df_TB_burden_enriched"
   ]
  }
 ],
 "metadata": {
  "kernelspec": {
   "display_name": "Python [conda env:base] *",
   "language": "python",
   "name": "conda-base-py"
  },
  "language_info": {
   "codemirror_mode": {
    "name": "ipython",
    "version": 3
   },
   "file_extension": ".py",
   "mimetype": "text/x-python",
   "name": "python",
   "nbconvert_exporter": "python",
   "pygments_lexer": "ipython3",
   "version": "3.12.7"
  }
 },
 "nbformat": 4,
 "nbformat_minor": 5
}
